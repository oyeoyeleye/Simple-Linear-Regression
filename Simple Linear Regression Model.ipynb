{
 "cells": [
  {
   "cell_type": "markdown",
   "metadata": {},
   "source": [
    "\n",
    "\n",
    "# Simple Linear Regression Problem"
   ]
  },
  {
   "cell_type": "markdown",
   "metadata": {},
   "source": [
    " The project is to build a Simple Linear Regression model without using any Python library or packages with hope on getting more practice on using Python. My model defines most of the functions we will like to compute when working on any Linear Regression problem like mean, variance, residual, score and RMSE. The goal is to create a model from scratch similar to sklearn.linear_model and compare mine to similar models in terms of accuracy and speed."
   ]
  },
  {
   "cell_type": "markdown",
   "metadata": {},
   "source": [
    "## My Model"
   ]
  },
  {
   "cell_type": "markdown",
   "metadata": {},
   "source": [
    " Firstly, I will to show my model below and then we can explore it usage later "
   ]
  },
  {
   "cell_type": "code",
   "execution_count": 1,
   "metadata": {},
   "outputs": [],
   "source": [
    "class SimpleOLR:\n",
    "    def __init__(self, x: list, y: list):\n",
    "#         # check data types\n",
    "#         if not isinstance(x, list):\n",
    "#             raise ValueError(\"x not a list!\")\n",
    "            \n",
    "#         if not isinstance(y, list):\n",
    "#             raise ValueError(\"y not a list!\")\n",
    "            \n",
    "#         # check if count of x and y are same\n",
    "#         if not len(x) == len(y):\n",
    "#             raise ValueError(\"length of x and y should be equal!\")\n",
    "            \n",
    "        self.x = x\n",
    "        self.y = y\n",
    "        self.fitted = False\n",
    "        \n",
    "    def mean(self, data):\n",
    "        return sum(data)/len(data)\n",
    "    \n",
    "    def beta_1(self):\n",
    "        top_x = [i - self.x_bar for i in x]\n",
    "        top_y = [j - self.y_bar for j in y]\n",
    "        numerator = sum([i * j for i, j in zip(top_x, top_y)])\n",
    "        denomerator = sum([i**2 for i in top_x]) \n",
    "        self.beta_1 = numerator / denomerator\n",
    "        \n",
    "    def beta_0(self):\n",
    "        self.beta_0 = self.y_bar - (self.beta_1 * self.x_bar)\n",
    "        \n",
    "    def fit(self):\n",
    "        self.x_bar = self.mean(x)\n",
    "        self.y_bar = self.mean(y)\n",
    "        self.beta_1()\n",
    "        self.beta_0()\n",
    "        self.fitted = True\n",
    "        \n",
    "    def predict(self, x_list: list) -> list:\n",
    "        if not self.fitted:\n",
    "            raise ValueError(\"Model has not been fitted! Call dot fit!\")\n",
    "        return [self.beta_0 + self.beta_1 * x for x in x_list]\n",
    "    \n",
    "    def residual(self):\n",
    "        y_hats =  self.predict(self.x)\n",
    "        return [y - y_hat for y, y_hat in zip(self.y, y_hats)]\n",
    "    \n",
    "    def variance(self, z: list):\n",
    "        self.z_bar = self.mean(z)\n",
    "        return sum([(j - self.z_bar)**2 for j in z])/(len(z))\n",
    "        \n",
    "    def mse(self, y_pred: list, y_actual: list):\n",
    "        return sum([(i - j)**2 for i, j in zip(y_actual, y_pred)])/len(y_actual)\n",
    "    \n",
    "    def rmse(self, y_pred: list, y_actual: list):\n",
    "        mse = self.mse(y_pred, y_actual)\n",
    "        return mse ** 0.5\n",
    "    \n",
    "    def mae(self, y_pred: list, y_actual: list):\n",
    "        return sum([abs(i - j) for i, j in zip(y_actual, y_pred )])/len(y_actual)\n",
    "    \n",
    "    def score(self, y_pred: list, y_actual: list):\n",
    "        top = sum([(i - self.y_bar)**2 for i in y_pred])\n",
    "        bottom = sum([(i - self.y_bar)**2 for i in y_actual])\n",
    "        return top/bottom"
   ]
  },
  {
   "cell_type": "markdown",
   "metadata": {},
   "source": [
    "## Data Information"
   ]
  },
  {
   "cell_type": "markdown",
   "metadata": {},
   "source": [
    " For the purpose of this project, I will be looking into predicting the salary of an employee based on his/her years of experience. The data used in this project is gotten from [Kaggle](https://www.kaggle.com/karthickveerakumar/salary-data-simple-linear-regression). \n",
    " Secondly, I will import the datasert and try to take a deeper look into the data before applying our model on it."
   ]
  },
  {
   "cell_type": "code",
   "execution_count": 2,
   "metadata": {},
   "outputs": [
    {
     "data": {
      "text/html": [
       "<div>\n",
       "<style scoped>\n",
       "    .dataframe tbody tr th:only-of-type {\n",
       "        vertical-align: middle;\n",
       "    }\n",
       "\n",
       "    .dataframe tbody tr th {\n",
       "        vertical-align: top;\n",
       "    }\n",
       "\n",
       "    .dataframe thead th {\n",
       "        text-align: right;\n",
       "    }\n",
       "</style>\n",
       "<table border=\"1\" class=\"dataframe\">\n",
       "  <thead>\n",
       "    <tr style=\"text-align: right;\">\n",
       "      <th></th>\n",
       "      <th>YearsExperience</th>\n",
       "      <th>Salary</th>\n",
       "    </tr>\n",
       "  </thead>\n",
       "  <tbody>\n",
       "    <tr>\n",
       "      <th>0</th>\n",
       "      <td>1.1</td>\n",
       "      <td>39343.0</td>\n",
       "    </tr>\n",
       "    <tr>\n",
       "      <th>1</th>\n",
       "      <td>1.3</td>\n",
       "      <td>46205.0</td>\n",
       "    </tr>\n",
       "    <tr>\n",
       "      <th>2</th>\n",
       "      <td>1.5</td>\n",
       "      <td>37731.0</td>\n",
       "    </tr>\n",
       "    <tr>\n",
       "      <th>3</th>\n",
       "      <td>2.0</td>\n",
       "      <td>43525.0</td>\n",
       "    </tr>\n",
       "    <tr>\n",
       "      <th>4</th>\n",
       "      <td>2.2</td>\n",
       "      <td>39891.0</td>\n",
       "    </tr>\n",
       "  </tbody>\n",
       "</table>\n",
       "</div>"
      ],
      "text/plain": [
       "   YearsExperience   Salary\n",
       "0              1.1  39343.0\n",
       "1              1.3  46205.0\n",
       "2              1.5  37731.0\n",
       "3              2.0  43525.0\n",
       "4              2.2  39891.0"
      ]
     },
     "execution_count": 2,
     "metadata": {},
     "output_type": "execute_result"
    }
   ],
   "source": [
    "import pandas as pd\n",
    "df = pd.read_csv('Salary_Data.csv')\n",
    "df.head()  #Looking at the first 5 entries of my dataset"
   ]
  },
  {
   "cell_type": "markdown",
   "metadata": {},
   "source": [
    "Let's try to get an overview decription of our dataset and some statistical information."
   ]
  },
  {
   "cell_type": "code",
   "execution_count": 3,
   "metadata": {},
   "outputs": [],
   "source": [
    "%matplotlib inline\n",
    "import numpy as np\n",
    "import matplotlib as mpl\n",
    "import matplotlib.pyplot as plt\n",
    "\n",
    "import seaborn as sns\n",
    "import folium"
   ]
  },
  {
   "cell_type": "code",
   "execution_count": 4,
   "metadata": {},
   "outputs": [
    {
     "data": {
      "text/plain": [
       "<matplotlib.axes._subplots.AxesSubplot at 0x21421ee8308>"
      ]
     },
     "execution_count": 4,
     "metadata": {},
     "output_type": "execute_result"
    },
    {
     "data": {
      "image/png": "[encoded data removed]",
      "text/plain": [
       "<Figure size 432x288 with 1 Axes>"
      ]
     },
     "metadata": {
      "needs_background": "light"
     },
     "output_type": "display_data"
    }
   ],
   "source": [
    "sns.scatterplot(x='YearsExperience', y='Salary', data=df)"
   ]
  },
  {
   "cell_type": "markdown",
   "metadata": {},
   "source": [
    "What will a good regression line look like from the above scatter plot? \n",
    "\n",
    "Let's answer the question below"
   ]
  },
  {
   "cell_type": "code",
   "execution_count": 5,
   "metadata": {},
   "outputs": [
    {
     "data": {
      "text/plain": [
       "<matplotlib.axes._subplots.AxesSubplot at 0x21422679d88>"
      ]
     },
     "execution_count": 5,
     "metadata": {},
     "output_type": "execute_result"
    },
    {
     "data": {
      "image/png": "[encoded data removed]",
      "text/plain": [
       "<Figure size 432x288 with 1 Axes>"
      ]
     },
     "metadata": {
      "needs_background": "light"
     },
     "output_type": "display_data"
    }
   ],
   "source": [
    "sns.regplot(x='YearsExperience', y='Salary', data=df)"
   ]
  },
  {
   "cell_type": "code",
   "execution_count": 6,
   "metadata": {},
   "outputs": [
    {
     "data": {
      "text/plain": [
       "YearsExperience    float64\n",
       "Salary             float64\n",
       "dtype: object"
      ]
     },
     "execution_count": 6,
     "metadata": {},
     "output_type": "execute_result"
    }
   ],
   "source": [
    "df.dtypes  # What kind of data types are we working with?"
   ]
  },
  {
   "cell_type": "code",
   "execution_count": 7,
   "metadata": {
    "scrolled": true
   },
   "outputs": [
    {
     "data": {
      "text/html": [
       "<div>\n",
       "<style scoped>\n",
       "    .dataframe tbody tr th:only-of-type {\n",
       "        vertical-align: middle;\n",
       "    }\n",
       "\n",
       "    .dataframe tbody tr th {\n",
       "        vertical-align: top;\n",
       "    }\n",
       "\n",
       "    .dataframe thead th {\n",
       "        text-align: right;\n",
       "    }\n",
       "</style>\n",
       "<table border=\"1\" class=\"dataframe\">\n",
       "  <thead>\n",
       "    <tr style=\"text-align: right;\">\n",
       "      <th></th>\n",
       "      <th>YearsExperience</th>\n",
       "      <th>Salary</th>\n",
       "    </tr>\n",
       "  </thead>\n",
       "  <tbody>\n",
       "    <tr>\n",
       "      <th>count</th>\n",
       "      <td>30.000000</td>\n",
       "      <td>30.000000</td>\n",
       "    </tr>\n",
       "    <tr>\n",
       "      <th>mean</th>\n",
       "      <td>5.313333</td>\n",
       "      <td>76003.000000</td>\n",
       "    </tr>\n",
       "    <tr>\n",
       "      <th>std</th>\n",
       "      <td>2.837888</td>\n",
       "      <td>27414.429785</td>\n",
       "    </tr>\n",
       "    <tr>\n",
       "      <th>min</th>\n",
       "      <td>1.100000</td>\n",
       "      <td>37731.000000</td>\n",
       "    </tr>\n",
       "    <tr>\n",
       "      <th>25%</th>\n",
       "      <td>3.200000</td>\n",
       "      <td>56720.750000</td>\n",
       "    </tr>\n",
       "    <tr>\n",
       "      <th>50%</th>\n",
       "      <td>4.700000</td>\n",
       "      <td>65237.000000</td>\n",
       "    </tr>\n",
       "    <tr>\n",
       "      <th>75%</th>\n",
       "      <td>7.700000</td>\n",
       "      <td>100544.750000</td>\n",
       "    </tr>\n",
       "    <tr>\n",
       "      <th>max</th>\n",
       "      <td>10.500000</td>\n",
       "      <td>122391.000000</td>\n",
       "    </tr>\n",
       "  </tbody>\n",
       "</table>\n",
       "</div>"
      ],
      "text/plain": [
       "       YearsExperience         Salary\n",
       "count        30.000000      30.000000\n",
       "mean          5.313333   76003.000000\n",
       "std           2.837888   27414.429785\n",
       "min           1.100000   37731.000000\n",
       "25%           3.200000   56720.750000\n",
       "50%           4.700000   65237.000000\n",
       "75%           7.700000  100544.750000\n",
       "max          10.500000  122391.000000"
      ]
     },
     "execution_count": 7,
     "metadata": {},
     "output_type": "execute_result"
    }
   ],
   "source": [
    "df.describe()"
   ]
  },
  {
   "cell_type": "markdown",
   "metadata": {},
   "source": [
    "From the summary above, we can see that our dataset has 30 entries with mean (5.3133, 76,003), median (4.7, 65,237) and maximum (10.5, 122,391) in terms of (Years of Experience, Salary).\n",
    "\n",
    "Next, I will like to split my dataset into training and test set. Since my dataset does not have so much entries. I will be using 80 percent of the data as training data."
   ]
  },
  {
   "cell_type": "code",
   "execution_count": 8,
   "metadata": {},
   "outputs": [
    {
     "name": "stdout",
     "output_type": "stream",
     "text": [
      "Training independent set size is  (24,) and dependent set size is  (24,) while the test set sizes are  (6,) and  (6,) respectively.\n"
     ]
    }
   ],
   "source": [
    "from sklearn.model_selection import train_test_split\n",
    "X = df['YearsExperience']\n",
    "y = df['Salary']\n",
    "X_train,X_test,y_train,y_test = train_test_split(X,y,train_size=0.8,random_state=100)\n",
    "\n",
    "print(\"Training independent set size is \", X_train.shape, \"and dependent set size is \", y_train.shape, \n",
    "      \"while the test set sizes are \", X_test.shape, \"and \", y_test.shape, \"respectively.\")"
   ]
  },
  {
   "cell_type": "markdown",
   "metadata": {},
   "source": [
    "\n",
    "Now let us start doing some interesting annalysis. Firstly, I will like to convert the training and test set into one dimensional array in order to be able to easily easily fit the data and use it in general."
   ]
  },
  {
   "cell_type": "markdown",
   "metadata": {},
   "source": [
    "Time for the best part. Using my model to analyze the data. "
   ]
  },
  {
   "cell_type": "code",
   "execution_count": 9,
   "metadata": {},
   "outputs": [],
   "source": [
    "x = X_train.values\n",
    "y = y_train.values\n",
    "olr = SimpleOLR(x, y)"
   ]
  },
  {
   "cell_type": "code",
   "execution_count": 10,
   "metadata": {},
   "outputs": [],
   "source": [
    "olr.fit()"
   ]
  },
  {
   "cell_type": "code",
   "execution_count": 11,
   "metadata": {},
   "outputs": [
    {
     "name": "stdout",
     "output_type": "stream",
     "text": [
      "The difference between the model prediction and actual values are \n",
      " 9     4266.195763\n",
      "26    1219.329173\n",
      "28     847.563939\n",
      "13    8118.642319\n",
      "5     2675.697349\n",
      "12    7306.530680\n",
      "Name: Salary, dtype: float64\n"
     ]
    },
    {
     "data": {
      "text/plain": [
       "[(61455.195762891126, 57189.0),\n",
       " (115749.6708267569, 116969.0),\n",
       " (123238.56393901426, 122391.0),\n",
       " (65199.64231901979, 57081.0),\n",
       " (53966.30265063377, 56642.0),\n",
       " (64263.53067998763, 56957.0)]"
      ]
     },
     "execution_count": 11,
     "metadata": {},
     "output_type": "execute_result"
    }
   ],
   "source": [
    "fancy_y = olr.predict(X_test.values)\n",
    "error = abs(fancy_y - y_test)\n",
    "print(\"The difference between the model prediction and actual values are \\n\", error)\n",
    "list(zip(fancy_y, y_test))  # To easily have a glance at predicted values to actual values to know where the difference above where derieved from"
   ]
  },
  {
   "cell_type": "code",
   "execution_count": 12,
   "metadata": {},
   "outputs": [
    {
     "data": {
      "text/plain": [
       "<matplotlib.legend.Legend at 0x2142293ba88>"
      ]
     },
     "execution_count": 12,
     "metadata": {},
     "output_type": "execute_result"
    },
    {
     "data": {
      "image/png": "[encoded data removed]",
      "text/plain": [
       "<Figure size 432x288 with 1 Axes>"
      ]
     },
     "metadata": {
      "needs_background": "light"
     },
     "output_type": "display_data"
    }
   ],
   "source": [
    "k = [i for i in range(1,len(y_test)+1,1)]\n",
    "plt.plot(k, fancy_y ,color='g',linestyle='-', label='predicted')\n",
    "plt.plot(k, y_test ,color='b',linestyle='-', label='actual')\n",
    "plt.xlabel('index')\n",
    "plt.ylabel('Salary')\n",
    "plt.title('Comparison of predicted values to actual values')\n",
    "plt.legend()"
   ]
  },
  {
   "cell_type": "code",
   "execution_count": 13,
   "metadata": {
    "scrolled": true
   },
   "outputs": [
    {
     "data": {
      "image/png": "[encoded data removed]",
      "text/plain": [
       "<Figure size 432x288 with 1 Axes>"
      ]
     },
     "metadata": {
      "needs_background": "light"
     },
     "output_type": "display_data"
    }
   ],
   "source": [
    "k = [i for i in range(1,len(y_test)+1,1)]\n",
    "plt.plot(k,error ,color='r',linestyle='-')\n",
    "plt.xlabel('index')\n",
    "plt.ylabel('Error')\n",
    "plt.title('Error graph')\n",
    "plt.show()"
   ]
  },
  {
   "cell_type": "code",
   "execution_count": 14,
   "metadata": {},
   "outputs": [
    {
     "name": "stdout",
     "output_type": "stream",
     "text": [
      "The value of my Mean square error is 24477109.0896557\n",
      "The value of my r-square is 0.9052549685422319\n"
     ]
    }
   ],
   "source": [
    "print(\"The value of my Mean square error is\", olr.mse(fancy_y, y_test).tolist())\n",
    "print(\"The value of my r-square is\", olr.score(fancy_y, y_test).tolist())"
   ]
  },
  {
   "cell_type": "markdown",
   "metadata": {},
   "source": [
    "Hence, from the value of the R-square, we can say that 90.5 percentage of the dependent variable(Salary) were explained by an independent variable(YearsExperience)."
   ]
  },
  {
   "cell_type": "code",
   "execution_count": 15,
   "metadata": {},
   "outputs": [
    {
     "name": "stdout",
     "output_type": "stream",
     "text": [
      "Intercept of the model: 26819.065118700877\n",
      "Coefficient of the line: 9361.116390321688\n"
     ]
    }
   ],
   "source": [
    "# Intecept and coeff of the line\n",
    "print('Intercept of the model:', olr.beta_0)\n",
    "print('Coefficient of the line:', olr.beta_1)"
   ]
  },
  {
   "cell_type": "markdown",
   "metadata": {},
   "source": [
    "The regression line is of the form:\n",
    "\n",
    "## Salary = 26819.1 + (9361.1 * Years of Expereince)"
   ]
  },
  {
   "cell_type": "code",
   "execution_count": null,
   "metadata": {},
   "outputs": [],
   "source": []
  },
  {
   "cell_type": "markdown",
   "metadata": {},
   "source": [
    "# Using other models out there to compare what I did"
   ]
  },
  {
   "cell_type": "markdown",
   "metadata": {},
   "source": [
    "### 1) Sklearn"
   ]
  },
  {
   "cell_type": "markdown",
   "metadata": {},
   "source": [
    "It is time to start trying some models on my data. I will firstly try the popular sklearn linear regression model "
   ]
  },
  {
   "cell_type": "code",
   "execution_count": 16,
   "metadata": {},
   "outputs": [
    {
     "data": {
      "text/plain": [
       "LinearRegression(copy_X=True, fit_intercept=True, n_jobs=None, normalize=False)"
      ]
     },
     "execution_count": 16,
     "metadata": {},
     "output_type": "execute_result"
    }
   ],
   "source": [
    "from sklearn.linear_model import LinearRegression\n",
    "from sklearn.metrics import mean_squared_error as mse\n",
    "from sklearn.metrics import r2_score\n",
    "\n",
    "X_train = X_train[:, np.newaxis]\n",
    "X_test = X_test[:, np.newaxis]\n",
    "y_train = y_train[:, np.newaxis]\n",
    "y_test = y_test[:, np.newaxis]\n",
    "\n",
    "lr = LinearRegression()\n",
    "lr.fit(X_train, y_train)"
   ]
  },
  {
   "cell_type": "markdown",
   "metadata": {},
   "source": [
    "\n",
    "\n",
    "\n",
    "Since we were able to fit our model, it is time to start using it. Let us get our predicted values"
   ]
  },
  {
   "cell_type": "code",
   "execution_count": 17,
   "metadata": {
    "scrolled": true
   },
   "outputs": [
    {
     "name": "stdout",
     "output_type": "stream",
     "text": [
      "The difference between the model prediction and actual values are \n",
      " [[4266.19576289]\n",
      " [1219.32917324]\n",
      " [ 847.56393901]\n",
      " [8118.64231902]\n",
      " [2675.69734937]\n",
      " [7306.53067999]]\n"
     ]
    },
    {
     "data": {
      "text/plain": [
       "[(array([61455.19576289]), array([57189.])),\n",
       " (array([115749.67082676]), array([116969.])),\n",
       " (array([123238.56393901]), array([122391.])),\n",
       " (array([65199.64231902]), array([57081.])),\n",
       " (array([53966.30265063]), array([56642.])),\n",
       " (array([64263.53067999]), array([56957.]))]"
      ]
     },
     "execution_count": 17,
     "metadata": {},
     "output_type": "execute_result"
    }
   ],
   "source": [
    "y_sk = lr.predict(X_test)\n",
    "abs(y_sk - y_test)\n",
    "print(\"The difference between the model prediction and actual values are \\n\", abs(y_sk - y_test))\n",
    "list(zip(y_sk, y_test))  # To easily have a glance at predicted values to actual values to know where the difference above where derieved from"
   ]
  },
  {
   "cell_type": "code",
   "execution_count": 18,
   "metadata": {},
   "outputs": [
    {
     "data": {
      "text/plain": [
       "<matplotlib.legend.Legend at 0x21422b92f88>"
      ]
     },
     "execution_count": 18,
     "metadata": {},
     "output_type": "execute_result"
    },
    {
     "data": {
      "image/png": "[encoded data removed]",
      "text/plain": [
       "<Figure size 432x288 with 1 Axes>"
      ]
     },
     "metadata": {
      "needs_background": "light"
     },
     "output_type": "display_data"
    }
   ],
   "source": [
    "k = [i for i in range(1,len(y_test)+1,1)]\n",
    "plt.plot(k, y_sk ,color='green',linestyle='-', label='predicted')\n",
    "plt.plot(k, y_test ,color='blue',linestyle='-', label='actual')\n",
    "plt.xlabel('index')\n",
    "plt.ylabel('Salary')\n",
    "plt.title('Comparison of predicted values to actual values')\n",
    "plt.legend()"
   ]
  },
  {
   "cell_type": "code",
   "execution_count": 19,
   "metadata": {},
   "outputs": [
    {
     "data": {
      "image/png": "[encoded data removed]",
      "text/plain": [
       "<Figure size 432x288 with 1 Axes>"
      ]
     },
     "metadata": {
      "needs_background": "light"
     },
     "output_type": "display_data"
    }
   ],
   "source": [
    "k = [i for i in range(1,len(y_test)+1,1)]\n",
    "plt.plot(k, abs(y_sk - y_test) ,color='r',linestyle='-')\n",
    "plt.xlabel('index')\n",
    "plt.ylabel('Error')\n",
    "plt.title('Error graph')\n",
    "plt.show()"
   ]
  },
  {
   "cell_type": "markdown",
   "metadata": {},
   "source": [
    "We can also do same to the training set because why not "
   ]
  },
  {
   "cell_type": "code",
   "execution_count": 20,
   "metadata": {},
   "outputs": [
    {
     "name": "stdout",
     "output_type": "stream",
     "text": [
      "The test Mean square error is  24477109.08965574\n",
      "The r-square value is 0.9683039091236145\n"
     ]
    }
   ],
   "source": [
    "mse(y_sk, y_test)\n",
    "print('The test Mean square error is ', mse(y_sk, y_test))\n",
    "\n",
    "r2_score(y_sk, y_test)\n",
    "print('The r-square value is', r2_score(y_sk, y_test))"
   ]
  },
  {
   "cell_type": "markdown",
   "metadata": {},
   "source": [
    "This value is approximately 6 percentage better than my model in terms of the accuracy as provided by the R-square"
   ]
  },
  {
   "cell_type": "code",
   "execution_count": 21,
   "metadata": {},
   "outputs": [
    {
     "name": "stdout",
     "output_type": "stream",
     "text": [
      "Intercept of the model: [26819.0651187]\n",
      "Coefficient of the line: [[9361.11639032]]\n"
     ]
    }
   ],
   "source": [
    "# Intecept and coeff of the line\n",
    "print('Intercept of the model:',lr.intercept_)\n",
    "print('Coefficient of the line:',lr.coef_)"
   ]
  },
  {
   "cell_type": "markdown",
   "metadata": {},
   "source": [
    "The regression line is of the form:\n",
    "\n",
    "## Salary = 26819.1 + (9361.1 * Years of Expereince)"
   ]
  },
  {
   "cell_type": "code",
   "execution_count": null,
   "metadata": {},
   "outputs": [],
   "source": []
  },
  {
   "cell_type": "markdown",
   "metadata": {},
   "source": [
    "# Summary"
   ]
  },
  {
   "cell_type": "markdown",
   "metadata": {},
   "source": [
    "|                      | Mine                                              | Sklearn.linear_model                             |\n",
    "| -------------------- |:-------------------------------------------------:| ------------------------------------------------:|\n",
    "| Model                | Salary = 26819.1 + (9361.1 * Years of Expereince) | Salary = 26819.1 + (9361.1 * Years of Expereince)|\n",
    "| R-square             | 0.9053                                            |   0.9683                                         |\n",
    "|Mean Square Error(MSE)|   24,477,109.1                                    |   24,477,109.1                                   |\n"
   ]
  },
  {
   "cell_type": "code",
   "execution_count": null,
   "metadata": {},
   "outputs": [],
   "source": []
  }
 ],
 "metadata": {
  "kernelspec": {
   "display_name": "Python 3",
   "language": "python",
   "name": "python3"
  },
  "language_info": {
   "codemirror_mode": {
    "name": "ipython",
    "version": 3
   },
   "file_extension": ".py",
   "mimetype": "text/x-python",
   "name": "python",
   "nbconvert_exporter": "python",
   "pygments_lexer": "ipython3",
   "version": "3.7.6"
  }
 },
 "nbformat": 4,
 "nbformat_minor": 4
}
